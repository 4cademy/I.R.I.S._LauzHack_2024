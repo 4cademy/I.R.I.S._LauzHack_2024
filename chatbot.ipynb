{
 "cells": [
  {
   "cell_type": "code",
   "execution_count": 171,
   "metadata": {},
   "outputs": [],
   "source": [
    "import boto3, json\n"
   ]
  },
  {
   "cell_type": "code",
   "execution_count": 173,
   "metadata": {},
   "outputs": [],
   "source": [
    "bedrock_runtime = boto3.client(\n",
    "    service_name='bedrock-runtime',\n",
    "    region_name='us-west-2',\n",
    "    aws_access_key_id=os.environ.get('AWS_ACCESS_KEY_ID'),\n",
    "    aws_secret_access_key=os.environ.get('AWS_SECRET_ACCESS_KEY'),\n",
    "    aws_session_token=os.environ.get('AWS_SESSION_TOKEN')\n",
    ")\n"
   ]
  },
  {
   "cell_type": "code",
   "execution_count": 174,
   "metadata": {},
   "outputs": [],
   "source": [
    "prompt = \"Give me a summary about Guillaume Krafft\""
   ]
  },
  {
   "cell_type": "code",
   "execution_count": 175,
   "metadata": {},
   "outputs": [
    {
     "name": "stdout",
     "output_type": "stream",
     "text": [
      "{'modelId': 'anthropic.claude-3-5-sonnet-20241022-v2:0', 'contentType': 'application/json', 'accept': 'application/json', 'body': '{\"anthropic_version\": \"bedrock-2023-05-31\", \"max_tokens\": 200, \"top_k\": 250, \"stop_sequences\": [], \"temperature\": 1, \"top_p\": 0.999, \"messages\": [{\"role\": \"user\", \"content\": [{\"type\": \"text\", \"text\": \"Give me a summary about Guillaume Krafft\"}]}]}'}\n"
     ]
    }
   ],
   "source": [
    "kwargs = {\n",
    "    \"modelId\": \"anthropic.claude-3-5-sonnet-20241022-v2:0\",\n",
    "    \"contentType\": \"application/json\",\n",
    "    \"accept\": \"application/json\",\n",
    "    \"body\": json.dumps({  # Convert the body to a JSON string\n",
    "        \"anthropic_version\": \"bedrock-2023-05-31\",\n",
    "        \"max_tokens\": 200,\n",
    "        \"top_k\": 250,\n",
    "        \"stop_sequences\": [],\n",
    "        \"temperature\": 1,\n",
    "        \"top_p\": 0.999,\n",
    "        \"messages\": [\n",
    "            {\n",
    "                \"role\": \"user\",\n",
    "                \"content\": [\n",
    "                    {\n",
    "                        \"type\": \"text\",\n",
    "                        \"text\": prompt\n",
    "                    }\n",
    "                ]\n",
    "            }\n",
    "        ]\n",
    "    })\n",
    "}\n",
    "\n",
    "\n",
    "print(kwargs)"
   ]
  },
  {
   "cell_type": "code",
   "execution_count": null,
   "metadata": {},
   "outputs": [
    {
     "name": "stdout",
     "output_type": "stream",
     "text": [
      "Guillaume Krafft was a French businessman and entrepreneur who is best known as the founder of Paul, a French chain of bakery-cafés that was established in 1889 in Croix, near Lille, France. The company, which began as a small bakery, grew to become an international brand with locations in many countries. The name \"Paul\" was actually the surname of Guillaume Krafft's wife's family. Today, Paul is known for its traditional French bread, pastries, and café services, though it has expanded well beyond its original scope as a local bakery."
     ]
    }
   ],
   "source": [
    "response = bedrock_runtime.invoke_model_with_response_stream(**kwargs)\n",
    "stream = response.get(\"body\")\n",
    "\n",
    "if stream:\n",
    "    for event in stream:\n",
    "        chunk = event.get(\"chunk\")\n",
    "        if chunk:\n",
    "            # Decode and parse the chunk\n",
    "            chunk_data = json.loads(chunk.get(\"bytes\"))\n",
    "            if \"content_block_delta\" in chunk_data.get(\"type\", \"\"):\n",
    "                # Print the delta text as it arrives\n",
    "                print(chunk_data[\"delta\"][\"text\"], end=\"\", flush=True)\n"
   ]
  },
  {
   "cell_type": "code",
   "execution_count": null,
   "metadata": {},
   "outputs": [
    {
     "ename": "AttributeError",
     "evalue": "'EventStream' object has no attribute 'read'",
     "output_type": "error",
     "traceback": [
      "\u001b[1;31m---------------------------------------------------------------------------\u001b[0m",
      "\u001b[1;31mAttributeError\u001b[0m                            Traceback (most recent call last)",
      "Cell \u001b[1;32mIn[177], line 1\u001b[0m\n\u001b[1;32m----> 1\u001b[0m response_body \u001b[38;5;241m=\u001b[39m json\u001b[38;5;241m.\u001b[39mloads(\u001b[43mresponse\u001b[49m\u001b[38;5;241;43m.\u001b[39;49m\u001b[43mget\u001b[49m\u001b[43m(\u001b[49m\u001b[38;5;124;43m'\u001b[39;49m\u001b[38;5;124;43mbody\u001b[39;49m\u001b[38;5;124;43m'\u001b[39;49m\u001b[43m)\u001b[49m\u001b[38;5;241;43m.\u001b[39;49m\u001b[43mread\u001b[49m())\n\u001b[0;32m      2\u001b[0m response_body\n",
      "\u001b[1;31mAttributeError\u001b[0m: 'EventStream' object has no attribute 'read'"
     ]
    }
   ],
   "source": [
    "# response_body = json.loads(response.get('body').read())\n",
    "# response_body"
   ]
  },
  {
   "cell_type": "code",
   "execution_count": null,
   "metadata": {},
   "outputs": [
    {
     "data": {
      "text/plain": [
       "\"Guillaume Krafft was a French architect who lived and worked in Strasbourg during the late 19th and early 20th centuries. He was known for designing several buildings in Strasbourg during the German period (when Alsace was part of the German Empire between 1871 and 1918). However, I should note that information about him is somewhat limited in my database, and you may want to verify specific details. If you're particularly interested in his architectural works or life, you might want to consult local Strasbourg historical archives for more detailed information.\""
      ]
     },
     "execution_count": 146,
     "metadata": {},
     "output_type": "execute_result"
    }
   ],
   "source": [
    "# completion = response_body.get('content')[0].get('text')\n",
    "# completion"
   ]
  }
 ],
 "metadata": {
  "kernelspec": {
   "display_name": "lauzhack",
   "language": "python",
   "name": "python3"
  },
  "language_info": {
   "codemirror_mode": {
    "name": "ipython",
    "version": 3
   },
   "file_extension": ".py",
   "mimetype": "text/x-python",
   "name": "python",
   "nbconvert_exporter": "python",
   "pygments_lexer": "ipython3",
   "version": "3.13.0"
  }
 },
 "nbformat": 4,
 "nbformat_minor": 2
}
